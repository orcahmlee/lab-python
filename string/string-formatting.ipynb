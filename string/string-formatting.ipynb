{
 "cells": [
  {
   "cell_type": "markdown",
   "metadata": {},
   "source": [
    "# How to format your string?"
   ]
  },
  {
   "cell_type": "code",
   "execution_count": 1,
   "metadata": {},
   "outputs": [],
   "source": [
    "name = 'Andrew'\n",
    "nationality = 'Taiwan'\n",
    "lat = 23.6978\n",
    "lon = 120.9605\n",
    "population = 23.57\n",
    "\n",
    "info = {\n",
    "    'name': 'Andrew',\n",
    "    'nationality': 'Taiwan'\n",
    "}\n",
    "coordinates = {\n",
    "    'nationality': 'Taiwan',\n",
    "    'lat': 23.6978,\n",
    "    'lon': 120.9605\n",
    "}"
   ]
  },
  {
   "cell_type": "markdown",
   "metadata": {},
   "source": [
    "## C-style \n",
    "https://docs.python.org/3/library/stdtypes.html#printf-style-string-formatting"
   ]
  },
  {
   "cell_type": "code",
   "execution_count": 2,
   "metadata": {},
   "outputs": [
    {
     "name": "stdout",
     "output_type": "stream",
     "text": [
      "Hi there, I am Andrew and I'm from Taiwan!\n",
      "The coordinates of Taiwan are 23.6978 N, 120.9605 E.\n",
      "The population of Taiwan is approximately 23 million.\n"
     ]
    }
   ],
   "source": [
    "print(\"Hi there, I am %s and I'm from %s!\" % (name, nationality))\n",
    "print('The coordinates of %s are %.4f N, %.4f E.' % (nationality, lat, lon))\n",
    "print('The population of %s is approximately %d million.' % (nationality, population))"
   ]
  },
  {
   "cell_type": "code",
   "execution_count": 3,
   "metadata": {},
   "outputs": [
    {
     "name": "stdout",
     "output_type": "stream",
     "text": [
      "Hi there, I am Andrew and I'm from Taiwan!\n",
      "The coordinates of Taiwan are 23.6978 N, 120.9605 E.\n",
      "The population of Taiwan is approximately 23 million.\n"
     ]
    }
   ],
   "source": [
    "print(\"Hi there, I am %(name)s and I'm from %(nationality)s!\" % info)\n",
    "print('The coordinates of %(nationality)s are %(lat).4f N, %(lon).4f E.' % (coordinates))\n",
    "print('The population of %s is approximately %d million.' % (nationality, population))"
   ]
  },
  {
   "cell_type": "markdown",
   "metadata": {},
   "source": [
    "## str.format()\n",
    "https://docs.python.org/3/library/stdtypes.html#str.format"
   ]
  },
  {
   "cell_type": "code",
   "execution_count": 4,
   "metadata": {},
   "outputs": [
    {
     "name": "stdout",
     "output_type": "stream",
     "text": [
      "Hi there, I am Andrew and I'm from Taiwan!\n",
      "The coordinates of Taiwan are 23.6978 N, 120.9605 E.\n",
      "The population of Taiwan is approximately 23.57 million.\n"
     ]
    }
   ],
   "source": [
    "print(\"Hi there, I am {} and I'm from {}!\".format(name, nationality))\n",
    "print('The coordinates of {} are {} N, {} E.'.format(nationality, lat, lon))\n",
    "print('The population of {} is approximately {} million.'.format(nationality, population))"
   ]
  },
  {
   "cell_type": "code",
   "execution_count": 5,
   "metadata": {},
   "outputs": [
    {
     "name": "stdout",
     "output_type": "stream",
     "text": [
      "Hi there, I am Andrew and I'm from Taiwan!\n",
      "The coordinates of Taiwan are 23.70 N, 120.96 E.\n",
      "The population of Taiwan is approximately 24 million.\n"
     ]
    }
   ],
   "source": [
    "print(\"Hi there, I am {0} and I'm from {1}!\".format(name, nationality))\n",
    "print('The coordinates of {0} are {1:.2f} N, {2:.2f} E.'.format(nationality, lat, lon))\n",
    "print('The population of {0} is approximately {1:.0f} million.'.format(nationality, population))"
   ]
  },
  {
   "cell_type": "code",
   "execution_count": 6,
   "metadata": {},
   "outputs": [
    {
     "name": "stdout",
     "output_type": "stream",
     "text": [
      "Hi there, I am Andrew and I'm from Taiwan!\n",
      "Hi there, I am Andrew and I'm from Taiwan!\n",
      "Hi there, I am Andrew and I'm from Taiwan!\n"
     ]
    }
   ],
   "source": [
    "print(\"Hi there, I am {name} and I'm from {nationality}!\".format(name=name, nationality=nationality))\n",
    "print(\"Hi there, I am {name} and I'm from {nationality}!\".format(name=info['name'], nationality=info['nationality']))\n",
    "print(\"Hi there, I am {name} and I'm from {nationality}!\".format(**info))"
   ]
  },
  {
   "cell_type": "markdown",
   "metadata": {},
   "source": [
    "## f-strings\n",
    "PEP 498: Formatted string literals<br>\n",
    "https://docs.python.org/3/whatsnew/3.6.html#whatsnew36-pep498"
   ]
  },
  {
   "cell_type": "code",
   "execution_count": 7,
   "metadata": {},
   "outputs": [
    {
     "name": "stdout",
     "output_type": "stream",
     "text": [
      "Hi there, I am Andrew and I'm from Taiwan!\n",
      "The coordinates of Taiwan are 23.6978 N, 120.9605 E.\n",
      "The population of Taiwan is approximately 24 million.\n"
     ]
    }
   ],
   "source": [
    "print(f\"Hi there, I am {name} and I'm from {nationality}!\")\n",
    "print(f'The coordinates of {nationality} are {lat:.4f} N, {lon:.4f} E.')\n",
    "print(f'The population of {nationality} is approximately {population:.0f} million.')"
   ]
  },
  {
   "cell_type": "code",
   "execution_count": 8,
   "metadata": {},
   "outputs": [
    {
     "name": "stdout",
     "output_type": "stream",
     "text": [
      "Hi there, I am Andrew and I'm from Taiwan!\n"
     ]
    }
   ],
   "source": [
    "print(f\"Hi there, I am {info['name']} and I'm from {info['nationality']}!\")"
   ]
  },
  {
   "cell_type": "code",
   "execution_count": 9,
   "metadata": {},
   "outputs": [
    {
     "name": "stdout",
     "output_type": "stream",
     "text": [
      "1024\n"
     ]
    }
   ],
   "source": [
    "print(f'{2 ** 10}')"
   ]
  },
  {
   "cell_type": "code",
   "execution_count": 10,
   "metadata": {},
   "outputs": [
    {
     "name": "stdout",
     "output_type": "stream",
     "text": [
      "I'm from TAIWAN!\n"
     ]
    }
   ],
   "source": [
    "print(f\"I'm from {nationality.upper()}!\")"
   ]
  }
 ],
 "metadata": {
  "kernelspec": {
   "display_name": "Python 3",
   "language": "python",
   "name": "python3"
  },
  "language_info": {
   "codemirror_mode": {
    "name": "ipython",
    "version": 3
   },
   "file_extension": ".py",
   "mimetype": "text/x-python",
   "name": "python",
   "nbconvert_exporter": "python",
   "pygments_lexer": "ipython3",
   "version": "3.6.8"
  }
 },
 "nbformat": 4,
 "nbformat_minor": 2
}
